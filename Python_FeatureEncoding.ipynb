{
  "nbformat": 4,
  "nbformat_minor": 0,
  "metadata": {
    "colab": {
      "provenance": []
    },
    "kernelspec": {
      "name": "python3",
      "display_name": "Python 3"
    },
    "language_info": {
      "name": "python"
    }
  },
  "cells": [
    {
      "cell_type": "code",
      "execution_count": null,
      "metadata": {
        "id": "ZAoytge8dQRG"
      },
      "outputs": [],
      "source": [
        "import numpy as np\n",
        "import pandas as pd\n",
        "import matplotlib.pyplot as plt\n",
        "import seaborn as sns\n",
        "from sklearn.preprocessing import LabelEncoder, OneHotEncoder\n"
      ]
    },
    {
      "cell_type": "code",
      "source": [
        "df=pd.read_csv('/content/Salaries.csv')"
      ],
      "metadata": {
        "id": "QI4dWER-dj-Z"
      },
      "execution_count": null,
      "outputs": []
    },
    {
      "cell_type": "code",
      "source": [
        "# Initialize LabelEncoder for 'rank'\n",
        "label_encoder = LabelEncoder()\n",
        "df['rank'] = label_encoder.fit_transform(df['rank'])\n",
        "\n",
        "# Initialize OneHotEncoder for 'discipline' and 'sex'\n",
        "one_hot_encoder = OneHotEncoder(sparse=False)\n",
        "\n",
        "# Apply OneHotEncoder for 'discipline'\n",
        "discipline_encoded = one_hot_encoder.fit_transform(df[['discipline']])\n",
        "discipline_df = pd.DataFrame(discipline_encoded, columns=one_hot_encoder.get_feature_names_out(['discipline']))\n",
        "\n",
        "# Apply OneHotEncoder for 'sex'\n",
        "sex_encoded = one_hot_encoder.fit_transform(df[['sex']])\n",
        "sex_df = pd.DataFrame(sex_encoded, columns=one_hot_encoder.get_feature_names_out(['sex']))\n",
        "\n",
        "# Concatenate the original DataFrame with the one-hot encoded columns\n",
        "df = df.drop(['discipline', 'sex'], axis=1)\n",
        "df = pd.concat([df, discipline_df, sex_df], axis=1)\n",
        "\n",
        "print(df)"
      ],
      "metadata": {
        "colab": {
          "base_uri": "https://localhost:8080/"
        },
        "id": "N0xvOrLQdpLB",
        "outputId": "9ec131d4-8d8e-475c-d364-8329190c7360"
      },
      "execution_count": null,
      "outputs": [
        {
          "output_type": "stream",
          "name": "stdout",
          "text": [
            "    rank  phd  service  salary  discipline_A  discipline_B  sex_Female  \\\n",
            "0      2   56       49  186960           0.0           1.0         0.0   \n",
            "1      2   12        6   93000           1.0           0.0         0.0   \n",
            "2      2   23       20  110515           1.0           0.0         0.0   \n",
            "3      2   40       31  131205           1.0           0.0         0.0   \n",
            "4      2   20       18  104800           0.0           1.0         0.0   \n",
            "..   ...  ...      ...     ...           ...           ...         ...   \n",
            "73     2   18       10  105450           0.0           1.0         1.0   \n",
            "74     0   19        6  104542           0.0           1.0         1.0   \n",
            "75     2   17       17  124312           0.0           1.0         1.0   \n",
            "76     2   28       14  109954           1.0           0.0         1.0   \n",
            "77     2   23       15  109646           1.0           0.0         1.0   \n",
            "\n",
            "    sex_Male  \n",
            "0        1.0  \n",
            "1        1.0  \n",
            "2        1.0  \n",
            "3        1.0  \n",
            "4        1.0  \n",
            "..       ...  \n",
            "73       0.0  \n",
            "74       0.0  \n",
            "75       0.0  \n",
            "76       0.0  \n",
            "77       0.0  \n",
            "\n",
            "[78 rows x 8 columns]\n"
          ]
        },
        {
          "output_type": "stream",
          "name": "stderr",
          "text": [
            "/usr/local/lib/python3.10/dist-packages/sklearn/preprocessing/_encoders.py:975: FutureWarning: `sparse` was renamed to `sparse_output` in version 1.2 and will be removed in 1.4. `sparse_output` is ignored unless you leave `sparse` to its default value.\n",
            "  warnings.warn(\n",
            "/usr/local/lib/python3.10/dist-packages/sklearn/preprocessing/_encoders.py:975: FutureWarning: `sparse` was renamed to `sparse_output` in version 1.2 and will be removed in 1.4. `sparse_output` is ignored unless you leave `sparse` to its default value.\n",
            "  warnings.warn(\n"
          ]
        }
      ]
    },
    {
      "cell_type": "code",
      "source": [
        "df=pd.read_csv('/content/Data (1).csv')"
      ],
      "metadata": {
        "id": "AaTGXPQWeuwR"
      },
      "execution_count": null,
      "outputs": []
    },
    {
      "cell_type": "code",
      "source": [
        "# Apply OneHotEncoding on 'Country'\n",
        "one_hot_encoder = OneHotEncoder(sparse=False, drop='first')\n",
        "country_encoded = one_hot_encoder.fit_transform(df[['Country']])\n",
        "country_df = pd.DataFrame(country_encoded, columns=one_hot_encoder.get_feature_names_out(['Country']))\n",
        "\n",
        "# Apply LabelEncoding on 'Purchased'\n",
        "label_encoder = LabelEncoder()\n",
        "df['Purchased'] = label_encoder.fit_transform(df['Purchased'])\n",
        "\n",
        "# Concatenate the original DataFrame with the one-hot encoded columns\n",
        "df = df.drop('Country', axis=1)\n",
        "df = pd.concat([df, country_df], axis=1)\n",
        "\n",
        "print(df)"
      ],
      "metadata": {
        "colab": {
          "base_uri": "https://localhost:8080/"
        },
        "id": "6r2N19OEjNu-",
        "outputId": "e4934d23-0549-4f11-b9fe-09af318b4079"
      },
      "execution_count": null,
      "outputs": [
        {
          "output_type": "stream",
          "name": "stdout",
          "text": [
            "    Age   Salary  Purchased  Country_Germany  Country_Spain\n",
            "0  44.0  72000.0          0              0.0            0.0\n",
            "1  27.0  48000.0          1              0.0            1.0\n",
            "2  30.0  54000.0          0              1.0            0.0\n",
            "3  38.0  61000.0          0              0.0            1.0\n",
            "4  40.0      NaN          1              1.0            0.0\n",
            "5  35.0  58000.0          1              0.0            0.0\n",
            "6   NaN  52000.0          0              0.0            1.0\n",
            "7  48.0  79000.0          1              0.0            0.0\n",
            "8  50.0  83000.0          0              1.0            0.0\n",
            "9  37.0  67000.0          1              0.0            0.0\n"
          ]
        },
        {
          "output_type": "stream",
          "name": "stderr",
          "text": [
            "/usr/local/lib/python3.10/dist-packages/sklearn/preprocessing/_encoders.py:975: FutureWarning: `sparse` was renamed to `sparse_output` in version 1.2 and will be removed in 1.4. `sparse_output` is ignored unless you leave `sparse` to its default value.\n",
            "  warnings.warn(\n"
          ]
        }
      ]
    },
    {
      "cell_type": "code",
      "source": [
        "df=pd.read_csv('/content/Employee (1).csv')"
      ],
      "metadata": {
        "id": "M5GcZ8PBjUZA"
      },
      "execution_count": 10,
      "outputs": []
    },
    {
      "cell_type": "code",
      "source": [
        "# Apply One-Hot Encoding on 'Company'\n",
        "company_encoded = pd.get_dummies(df['Company'], prefix='Company')\n",
        "\n",
        "# Apply One-Hot Encoding on 'Place'\n",
        "place_encoded = pd.get_dummies(df['Place'], prefix='Place')\n",
        "\n",
        "# Apply One-Hot Encoding on 'Country'\n",
        "country_encoded = pd.get_dummies(df['Country'], prefix='Country')\n",
        "\n",
        "# Concatenate the original DataFrame with the one-hot encoded columns\n",
        "df_encoded = pd.concat([df.drop(['Company', 'Place', 'Country'], axis=1),\n",
        "                        company_encoded, place_encoded, country_encoded], axis=1)\n",
        "\n",
        "print(df_encoded)"
      ],
      "metadata": {
        "colab": {
          "base_uri": "https://localhost:8080/"
        },
        "id": "cR66QArSonHm",
        "outputId": "8edae738-5ef2-4db3-8227-f18d20d28f25"
      },
      "execution_count": 15,
      "outputs": [
        {
          "output_type": "stream",
          "name": "stdout",
          "text": [
            "      Age  Salary  Gender  Company_6.0  Company_36.0  Company_45.0  \\\n",
            "0    20.0     NaN       0        False         False         False   \n",
            "1    30.0     NaN       0        False         False          True   \n",
            "2    35.0  2300.0       0        False         False         False   \n",
            "3    40.0  3000.0       0        False         False          True   \n",
            "4    23.0  4000.0       0        False         False         False   \n",
            "..    ...     ...     ...          ...           ...           ...   \n",
            "143  33.0  9024.0       1        False         False         False   \n",
            "144  22.0  8787.0       1        False         False          True   \n",
            "145  44.0  4034.0       1        False         False          True   \n",
            "146  33.0  5034.0       1        False         False         False   \n",
            "147  22.0  8202.0       0        False         False          True   \n",
            "\n",
            "     Company_53.0  Place_2.0  Place_3.0  Place_13.0  Place_16.0  Place_28.0  \\\n",
            "0            True      False      False       False       False        True   \n",
            "1           False      False      False       False       False       False   \n",
            "2            True      False      False       False       False       False   \n",
            "3           False      False      False       False       False        True   \n",
            "4            True      False      False       False       False       False   \n",
            "..            ...        ...        ...         ...         ...         ...   \n",
            "143          True      False      False       False       False       False   \n",
            "144         False      False      False       False       False       False   \n",
            "145         False      False      False       False       False        True   \n",
            "146          True      False      False       False       False       False   \n",
            "147         False      False      False        True       False       False   \n",
            "\n",
            "     Place_33.0  Place_37.0  Country_148  \n",
            "0         False       False         True  \n",
            "1         False        True         True  \n",
            "2          True       False         True  \n",
            "3         False       False         True  \n",
            "4         False        True         True  \n",
            "..          ...         ...          ...  \n",
            "143        True       False         True  \n",
            "144        True       False         True  \n",
            "145       False       False         True  \n",
            "146       False        True         True  \n",
            "147       False       False         True  \n",
            "\n",
            "[148 rows x 15 columns]\n"
          ]
        }
      ]
    },
    {
      "cell_type": "code",
      "source": [
        "from sklearn.decomposition import PCA\n",
        "from sklearn.preprocessing import OneHotEncoder\n",
        "\n",
        "# One-Hot Encoding\n",
        "one_hot_encoder = OneHotEncoder(sparse=False)\n",
        "encoded_features = one_hot_encoder.fit_transform(df[['Company', 'Place', 'Country']])\n",
        "encoded_df = pd.DataFrame(encoded_features, columns=one_hot_encoder.get_feature_names_out())\n",
        "\n",
        "# Apply PCA for dimensionality reduction\n",
        "pca = PCA(n_components=5)  # Reduce to a desired number of components\n",
        "reduced_features = pca.fit_transform(encoded_df)\n",
        "reduced_df = pd.DataFrame(reduced_features, columns=[f'PCA_{i}' for i in range(reduced_features.shape[1])])\n",
        "\n",
        "# Concatenate with the original DataFrame (excluding the original categorical columns)\n",
        "df_final = pd.concat([df.drop(['Company', 'Place', 'Country'], axis=1), reduced_df], axis=1)\n",
        "\n",
        "print(df_final)\n"
      ],
      "metadata": {
        "colab": {
          "base_uri": "https://localhost:8080/"
        },
        "id": "O-CQkA0looat",
        "outputId": "d95643a1-189a-4987-8d4f-907125f04011"
      },
      "execution_count": 16,
      "outputs": [
        {
          "output_type": "stream",
          "name": "stdout",
          "text": [
            "      Age  Salary  Gender     PCA_0     PCA_1     PCA_2     PCA_3     PCA_4\n",
            "0    20.0     NaN       0  0.747952 -0.294574 -0.070479  0.763067 -0.351894\n",
            "1    30.0     NaN       0 -0.679060 -0.267026  0.850994 -0.261780 -0.123927\n",
            "2    35.0  2300.0       0  0.740595 -0.348328 -0.512340 -0.568820 -0.197003\n",
            "3    40.0  3000.0       0 -0.630678 -0.595688 -0.028011  0.769376 -0.340669\n",
            "4    23.0  4000.0       0  0.699570  0.034088  0.808526 -0.268090 -0.135151\n",
            "..    ...     ...     ...       ...       ...       ...       ...       ...\n",
            "143  33.0  9024.0       1  0.740595 -0.348328 -0.512340 -0.568820 -0.197003\n",
            "144  22.0  8787.0       1 -0.638034 -0.649442 -0.469872 -0.562510 -0.185779\n",
            "145  44.0  4034.0       1 -0.630678 -0.595688 -0.028011  0.769376 -0.340669\n",
            "146  33.0  5034.0       1  0.699570  0.034088  0.808526 -0.268090 -0.135151\n",
            "147  22.0  8202.0       0 -0.696428 -0.452085  0.039251  0.083683  0.417131\n",
            "\n",
            "[148 rows x 8 columns]\n"
          ]
        },
        {
          "output_type": "stream",
          "name": "stderr",
          "text": [
            "/usr/local/lib/python3.10/dist-packages/sklearn/preprocessing/_encoders.py:975: FutureWarning: `sparse` was renamed to `sparse_output` in version 1.2 and will be removed in 1.4. `sparse_output` is ignored unless you leave `sparse` to its default value.\n",
            "  warnings.warn(\n"
          ]
        }
      ]
    },
    {
      "cell_type": "code",
      "source": [
        "\n",
        "\n",
        "# Frequency Encoding\n",
        "df['Company'] = df['Company'].map(df['Company'].value_counts())\n",
        "df['Place'] = df['Place'].map(df['Place'].value_counts())\n",
        "df['Country'] = df['Country'].map(df['Country'].value_counts())\n",
        "\n",
        "print(df.head(10))"
      ],
      "metadata": {
        "colab": {
          "base_uri": "https://localhost:8080/"
        },
        "id": "9ogopMeCm_gl",
        "outputId": "7a83d1a6-eba3-4884-d47a-1ef42b95802f"
      },
      "execution_count": 14,
      "outputs": [
        {
          "output_type": "stream",
          "name": "stdout",
          "text": [
            "   Company   Age  Salary  Place  Country  Gender\n",
            "0     53.0  20.0     NaN   28.0      148       0\n",
            "1     45.0  30.0     NaN   37.0      148       0\n",
            "2     53.0  35.0  2300.0   33.0      148       0\n",
            "3     45.0  40.0  3000.0   28.0      148       0\n",
            "4     53.0  23.0  4000.0   37.0      148       0\n",
            "5     45.0   NaN  5000.0   33.0      148       0\n",
            "6     53.0   NaN  6000.0   28.0      148       1\n",
            "7     45.0  23.0  7000.0   37.0      148       1\n",
            "8     53.0  34.0  8000.0   33.0      148       1\n",
            "9     36.0  45.0  9000.0   28.0      148       0\n"
          ]
        }
      ]
    },
    {
      "cell_type": "code",
      "source": [
        "df=pd.read_csv('/content/titanic (1).csv')"
      ],
      "metadata": {
        "id": "kIh1F_XYnBjD"
      },
      "execution_count": 17,
      "outputs": []
    },
    {
      "cell_type": "code",
      "source": [
        "# Apply One-Hot Encoding on 'Name', 'Sex', and 'Embarked'\n",
        "one_hot_name = pd.get_dummies(df['Name'], prefix='Name')\n",
        "one_hot_sex = pd.get_dummies(df['Sex'], prefix='Sex')\n",
        "one_hot_embarked = pd.get_dummies(df['Embarked'], prefix='Embarked')\n",
        "\n",
        "# Concatenate the original DataFrame with the one-hot encoded columns\n",
        "df_encoded = pd.concat([df.drop(['Name', 'Sex', 'Embarked'], axis=1),\n",
        "                        one_hot_name, one_hot_sex, one_hot_embarked], axis=1)\n",
        "\n",
        "print(df_encoded)"
      ],
      "metadata": {
        "colab": {
          "base_uri": "https://localhost:8080/"
        },
        "id": "C4hUTHGHo7tW",
        "outputId": "9e71a830-55c2-4a1a-b492-b97d4b0d85b5"
      },
      "execution_count": 18,
      "outputs": [
        {
          "output_type": "stream",
          "name": "stdout",
          "text": [
            "     PassengerId  Survived  Pclass   Age  SibSp  Parch            Ticket  \\\n",
            "0              1         0       3  22.0      1      0         A/5 21171   \n",
            "1              2         1       1  38.0      1      0          PC 17599   \n",
            "2              3         1       3  26.0      0      0  STON/O2. 3101282   \n",
            "3              4         1       1  35.0      1      0            113803   \n",
            "4              5         0       3  35.0      0      0            373450   \n",
            "..           ...       ...     ...   ...    ...    ...               ...   \n",
            "886          887         0       2  27.0      0      0            211536   \n",
            "887          888         1       1  19.0      0      0            112053   \n",
            "888          889         0       3   NaN      1      2        W./C. 6607   \n",
            "889          890         1       1  26.0      0      0            111369   \n",
            "890          891         0       3  32.0      0      0            370376   \n",
            "\n",
            "        Fare Cabin  Name_Abbing, Mr. Anthony  ...  \\\n",
            "0     7.2500   NaN                     False  ...   \n",
            "1    71.2833   C85                     False  ...   \n",
            "2     7.9250   NaN                     False  ...   \n",
            "3    53.1000  C123                     False  ...   \n",
            "4     8.0500   NaN                     False  ...   \n",
            "..       ...   ...                       ...  ...   \n",
            "886  13.0000   NaN                     False  ...   \n",
            "887  30.0000   B42                     False  ...   \n",
            "888  23.4500   NaN                     False  ...   \n",
            "889  30.0000  C148                     False  ...   \n",
            "890   7.7500   NaN                     False  ...   \n",
            "\n",
            "     Name_de Mulder, Mr. Theodore  Name_de Pelsmaeker, Mr. Alfons  \\\n",
            "0                           False                           False   \n",
            "1                           False                           False   \n",
            "2                           False                           False   \n",
            "3                           False                           False   \n",
            "4                           False                           False   \n",
            "..                            ...                             ...   \n",
            "886                         False                           False   \n",
            "887                         False                           False   \n",
            "888                         False                           False   \n",
            "889                         False                           False   \n",
            "890                         False                           False   \n",
            "\n",
            "     Name_del Carlo, Mr. Sebastiano  Name_van Billiard, Mr. Austin Blyler  \\\n",
            "0                             False                                 False   \n",
            "1                             False                                 False   \n",
            "2                             False                                 False   \n",
            "3                             False                                 False   \n",
            "4                             False                                 False   \n",
            "..                              ...                                   ...   \n",
            "886                           False                                 False   \n",
            "887                           False                                 False   \n",
            "888                           False                                 False   \n",
            "889                           False                                 False   \n",
            "890                           False                                 False   \n",
            "\n",
            "     Name_van Melkebeke, Mr. Philemon  Sex_female  Sex_male  Embarked_C  \\\n",
            "0                               False       False      True       False   \n",
            "1                               False        True     False        True   \n",
            "2                               False        True     False       False   \n",
            "3                               False        True     False       False   \n",
            "4                               False       False      True       False   \n",
            "..                                ...         ...       ...         ...   \n",
            "886                             False       False      True       False   \n",
            "887                             False        True     False       False   \n",
            "888                             False        True     False       False   \n",
            "889                             False       False      True        True   \n",
            "890                             False       False      True       False   \n",
            "\n",
            "     Embarked_Q  Embarked_S  \n",
            "0         False        True  \n",
            "1         False       False  \n",
            "2         False        True  \n",
            "3         False        True  \n",
            "4         False        True  \n",
            "..          ...         ...  \n",
            "886       False        True  \n",
            "887       False        True  \n",
            "888       False        True  \n",
            "889       False       False  \n",
            "890        True       False  \n",
            "\n",
            "[891 rows x 905 columns]\n"
          ]
        }
      ]
    }
  ]
}